{
  "nbformat": 4,
  "nbformat_minor": 0,
  "metadata": {
    "colab": {
      "private_outputs": true,
      "provenance": [],
      "authorship_tag": "ABX9TyMZ9XLzekVOHiRBSUpanqb8",
      "include_colab_link": true
    },
    "kernelspec": {
      "name": "python3",
      "display_name": "Python 3"
    },
    "language_info": {
      "name": "python"
    }
  },
  "cells": [
    {
      "cell_type": "markdown",
      "metadata": {
        "id": "view-in-github",
        "colab_type": "text"
      },
      "source": [
        "<a href=\"https://colab.research.google.com/github/adrianyang2012/predictor_projects/blob/main/data_comparing_things.ipynb\" target=\"_parent\"><img src=\"https://colab.research.google.com/assets/colab-badge.svg\" alt=\"Open In Colab\"/></a>"
      ]
    },
    {
      "cell_type": "code",
      "execution_count": null,
      "metadata": {
        "id": "uPRB1E1iT0G9"
      },
      "outputs": [],
      "source": [
        "import matplotlib.pyplot as plt\n",
        "\n",
        "li = []\n",
        "for i in  range(0,8):\n",
        "  new = int(input('type a number'))\n",
        "  li.append(new)\n",
        "\n",
        "distances = []\n",
        "num = li[0]\n",
        "increase = (li[-1]-li[0])/(len(li)-1)\n",
        "predict = []\n",
        "for i in range(0,len(li)):\n",
        "\n",
        "  distances.append((num-li[i])+1)\n",
        "  predict.append(num)\n",
        "  num+=increase\n",
        "plt.scatter([i for i in range(0,8)],li)\n",
        "plt.plot(predict)\n",
        "if abs((sum(distances)/len(distances))) > 10:\n",
        "  print('weird')\n",
        "elif increase < 0.1:\n",
        "  print('straight')\n",
        "elif (sum(distances)/len(distances)) * increase > 0.5:\n",
        "  print('increasing')\n",
        "else:\n",
        "  print('decreasing')"
      ]
    },
    {
      "cell_type": "code",
      "source": [
        "averages = [1,2]\n",
        "weights = [2,4]\n",
        "num = 0\n",
        "for i in range(0,len(averages)):\n",
        "  num += averages[i] * (weights[i]/sum(weights))\n",
        "print(num)"
      ],
      "metadata": {
        "id": "k7gP2Rm_0Y3f"
      },
      "execution_count": null,
      "outputs": []
    },
    {
      "cell_type": "code",
      "source": [
        "import random\n",
        "def rock_paper_scissors(p1,p2):\n",
        "  #r = 0 p = 1 s = 2\n",
        "  if p1 == p2:\n",
        "    return 0.5\n",
        "  if p1 == 0 and p2 == 2:\n",
        "    return 1\n",
        "  if p1 == 0 and p2 == 1:\n",
        "    return 0\n",
        "  if p1 == 1 and p2 == 0:\n",
        "    return 1\n",
        "  if p1 == 1 and p2 == 2:\n",
        "    return 0\n",
        "  if p1 == 2 and p2 == 1:\n",
        "    return 1\n",
        "  if p1 == 2 and p2 == 0:\n",
        "    return 0\n",
        "x=[]\n",
        "y = []\n",
        "for i in range(0,10):\n",
        "  print('type 0 for rock 1 for paper 2 for sisorcs')\n",
        "  a = int(input(''))\n",
        "  if i != 0:\n",
        "    y.append(a)\n",
        "  b = random.randint(0,2)\n",
        "  print(f'they did {b}')\n",
        "  if rock_paper_scissors(a,b) == 0.5:\n",
        "    print('tie')\n",
        "  elif rock_paper_scissors(a,b) == 1:\n",
        "    print('you won')\n",
        "  else:\n",
        "    print('you lose')\n",
        "  x.append(a)\n",
        "  \n",
        "y.append(a)"
      ],
      "metadata": {
        "id": "cFAwLbhG2V6b"
      },
      "execution_count": null,
      "outputs": []
    },
    {
      "cell_type": "code",
      "source": [
        "def train_stuff(x,y):\n",
        "  min_w = 0\n",
        "  min_b = 0\n",
        "  min_loss = 100\n",
        "  for w in range(-50,50):\n",
        "    for b in range(-50,50):\n",
        "      losses = []\n",
        "      for i in range(0,len(x)):\n",
        "        losses.append(abs(y[i]-((x[i]*w) + b)))\n",
        "      if sum(losses)/len(losses) < min_loss:\n",
        "        min_w = w\n",
        "        min_b = b\n",
        "        min_loss = sum(losses)/len(losses)\n",
        "  return min_w,min_b"
      ],
      "metadata": {
        "id": "q8XrbiNuXCxH"
      },
      "execution_count": null,
      "outputs": []
    },
    {
      "cell_type": "code",
      "source": [
        "print(min_w,min_b,min_loss)\n",
        "print(x,y)\n",
        "t = train_stuff(x,y)\n",
        "min_w = t[0] \n",
        "min_b = t[1]"
      ],
      "metadata": {
        "id": "fKd7xwAAsMOe"
      },
      "execution_count": null,
      "outputs": []
    },
    {
      "cell_type": "code",
      "source": [],
      "metadata": {
        "id": "tOQ1rPZIG8ch"
      },
      "execution_count": null,
      "outputs": []
    },
    {
      "cell_type": "code",
      "source": [
        "switched = {0:1,1:2,2:0}\n",
        "for i in range(0,5):\n",
        "  a = int(input('type a number for rock paper scissors'))\n",
        "  if i != 0:\n",
        "    try: \n",
        "      b = switched[(prev*min_w)+min_b]\n",
        "    except Exception as e:\n",
        "      b = 0\n",
        "      print(e)\n",
        "  else:\n",
        "    b = 0\n",
        "  prev = a\n",
        "  print(f'they did {b}')\n",
        "  if rock_paper_scissors(a,b) == 0.5:\n",
        "    print('tie')\n",
        "  elif rock_paper_scissors(a,b) == 1:\n",
        "    print('you won')\n",
        "  else:\n",
        "    print('you lose')\n",
        "\n",
        "\n"
      ],
      "metadata": {
        "id": "mSzPpX6R404D"
      },
      "execution_count": null,
      "outputs": []
    }
  ]
}