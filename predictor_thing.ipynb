{
  "nbformat": 4,
  "nbformat_minor": 0,
  "metadata": {
    "colab": {
      "private_outputs": true,
      "provenance": [],
      "authorship_tag": "ABX9TyNi5ODxgV2SKD6WiTwb1ZGH",
      "include_colab_link": true
    },
    "kernelspec": {
      "name": "python3",
      "display_name": "Python 3"
    },
    "language_info": {
      "name": "python"
    }
  },
  "cells": [
    {
      "cell_type": "markdown",
      "metadata": {
        "id": "view-in-github",
        "colab_type": "text"
      },
      "source": [
        "<a href=\"https://colab.research.google.com/github/adrianyang2012/predictor_projects/blob/main/predictor_thing.ipynb\" target=\"_parent\"><img src=\"https://colab.research.google.com/assets/colab-badge.svg\" alt=\"Open In Colab\"/></a>"
      ]
    },
    {
      "cell_type": "code",
      "execution_count": null,
      "metadata": {
        "id": "aPwldipbJU6Z"
      },
      "outputs": [],
      "source": [
        "x1 = [1,1,2]\n",
        "x2 = [1,0,2]\n",
        "x3 = [1,1,2]\n",
        "predict = [1,2,3]\n",
        "def train_stuff(x,y):\n",
        "  min_w = 0\n",
        "  min_b = 0\n",
        "  min_loss = 100\n",
        "  for w in range(-50,50):\n",
        "    for b in range(-50,50):\n",
        "      losses = []\n",
        "      for i in range(0,len(x)):\n",
        "        losses.append(abs(y[i]-((x[i]*w) + b)))\n",
        "      if sum(losses)/len(losses) < min_loss:\n",
        "        min_w = w\n",
        "        min_b = b\n",
        "        min_loss = sum(losses)/len(losses)\n",
        "  return min_w,min_b\n",
        "train_1 = train_stuff(x1,predict)\n",
        "train_2 = train_stuff(x2,predict)\n",
        "train_3 = train_stuff(x3,predict)\n",
        "w1 = train_1[0]\n",
        "b1 = train_1[1]\n",
        "w2 = train_2[0]\n",
        "b2 = train_2[1]\n",
        "w3 = train_3[0]\n",
        "b3 = train_3[1]\n",
        "def run(w1,b1,w2,b2,w3,b3,x,y,z):\n",
        "  res1 = w1*x+b1\n",
        "  res2 = w2*y+b2\n",
        "  res3 = w3*z+b3\n",
        "  return (res1+res2+res3)/3\n",
        "\n"
      ]
    },
    {
      "cell_type": "code",
      "source": [
        "run(w1,b1,w2,b2,w3,b3,1,2,2)"
      ],
      "metadata": {
        "id": "W9XQf352ROKn"
      },
      "execution_count": null,
      "outputs": []
    },
    {
      "cell_type": "code",
      "source": [],
      "metadata": {
        "id": "AtW62d0CRaje"
      },
      "execution_count": null,
      "outputs": []
    }
  ]
}